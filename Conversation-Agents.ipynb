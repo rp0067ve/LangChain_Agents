{
 "cells": [
  {
   "cell_type": "markdown",
   "id": "bcded1a6-2430-4707-a78c-c82f4c5ee6fc",
   "metadata": {},
   "source": [
    "<a href = \"https://www.pieriantraining.com\"><img src=\"../PT Centered Purple.png\"> </a>\n",
    "\n",
    "<em style=\"text-align:center\">Copyrighted by Pierian Training</em>"
   ]
  },
  {
   "cell_type": "markdown",
   "id": "728f1747-b8fc-4d31-96c2-047fc83c079d",
   "metadata": {},
   "source": [
    "# Conversation Agents"
   ]
  },
  {
   "cell_type": "code",
   "execution_count": 1,
   "id": "244f42d8-2349-446e-a1c2-ae4b8d3ee38f",
   "metadata": {},
   "outputs": [],
   "source": [
    "from langchain.agents import Tool\n",
    "from langchain.agents import AgentType\n",
    "from langchain.memory import ConversationBufferMemory\n",
    "from langchain.chat_models import ChatOpenAI\n",
    "from langchain.agents import initialize_agent\n",
    "from langchain.agents import load_tools"
   ]
  },
  {
   "cell_type": "code",
   "execution_count": 2,
   "id": "e16ae673",
   "metadata": {},
   "outputs": [],
   "source": [
    "import os\n",
    "f = open('/Users/koichirosuzuki/Desktop/desktop_openai.txt')\n",
    "os.environ['OPENAI_API_KEY'] = '?'\n",
    "api_key = f.read()"
   ]
  },
  {
   "cell_type": "code",
   "execution_count": 3,
   "id": "24a323c2-ee1f-417e-8844-1b8146b9327f",
   "metadata": {},
   "outputs": [],
   "source": [
    "memory = ConversationBufferMemory(memory_key=\"chat_history\")"
   ]
  },
  {
   "cell_type": "code",
   "execution_count": 4,
   "id": "a23e4ec1-ba5f-43ee-b466-3e625b3de0a8",
   "metadata": {},
   "outputs": [
    {
     "name": "stderr",
     "output_type": "stream",
     "text": [
      "/Users/koichirosuzuki/anaconda3/lib/python3.10/site-packages/langchain_core/_api/deprecation.py:117: LangChainDeprecationWarning: The class `langchain_community.chat_models.openai.ChatOpenAI` was deprecated in langchain-community 0.0.10 and will be removed in 0.2.0. An updated version of the class exists in the langchain-openai package and should be used instead. To use it run `pip install -U langchain-openai` and import as `from langchain_openai import ChatOpenAI`.\n",
      "  warn_deprecated(\n",
      "/Users/koichirosuzuki/anaconda3/lib/python3.10/site-packages/langchain_core/_api/deprecation.py:117: LangChainDeprecationWarning: The function `initialize_agent` was deprecated in LangChain 0.1.0 and will be removed in 0.2.0. Use Use new agent constructor methods like create_react_agent, create_json_agent, create_structured_chat_agent, etc. instead.\n",
      "  warn_deprecated(\n"
     ]
    }
   ],
   "source": [
    "llm=ChatOpenAI(temperature=0)\n",
    "tools = load_tools([\"llm-math\"], llm=llm) \n",
    "agent_chain = initialize_agent(tools, \n",
    "                               llm,\n",
    "                               agent=AgentType.CONVERSATIONAL_REACT_DESCRIPTION, \n",
    "                               verbose=True, \n",
    "                               memory=memory)"
   ]
  },
  {
   "cell_type": "code",
   "execution_count": 5,
   "id": "5e4c36f5-4b4a-47e9-8bbd-3de61806720c",
   "metadata": {},
   "outputs": [
    {
     "name": "stderr",
     "output_type": "stream",
     "text": [
      "/Users/koichirosuzuki/anaconda3/lib/python3.10/site-packages/langchain_core/_api/deprecation.py:117: LangChainDeprecationWarning: The function `run` was deprecated in LangChain 0.1.0 and will be removed in 0.2.0. Use invoke instead.\n",
      "  warn_deprecated(\n"
     ]
    },
    {
     "name": "stdout",
     "output_type": "stream",
     "text": [
      "\n",
      "\n",
      "\u001b[1m> Entering new AgentExecutor chain...\u001b[0m\n",
      "\u001b[32;1m\u001b[1;3mThought: Do I need to use a tool? No\n",
      "AI: Thai cuisine is known for its bold flavors and aromatic ingredients. Here are a few popular Thai food recipes you might enjoy:\n",
      "\n",
      "1. Pad Thai: A classic stir-fried noodle dish with a sweet and tangy sauce, typically made with shrimp, tofu, or chicken.\n",
      "\n",
      "2. Green Curry: A spicy and fragrant curry made with green curry paste, coconut milk, vegetables, and your choice of protein.\n",
      "\n",
      "3. Tom Yum Soup: A hot and sour soup flavored with lemongrass, kaffir lime leaves, and chili peppers, usually made with shrimp or chicken.\n",
      "\n",
      "4. Mango Sticky Rice: A delicious dessert made with sweet sticky rice, fresh mango slices, and coconut milk.\n",
      "\n",
      "These are just a few examples of popular Thai dishes, but there are many more to explore! Let me know if you'd like more specific recipes or information.\u001b[0m\n",
      "\n",
      "\u001b[1m> Finished chain.\u001b[0m\n"
     ]
    },
    {
     "data": {
      "text/plain": [
       "\"Thai cuisine is known for its bold flavors and aromatic ingredients. Here are a few popular Thai food recipes you might enjoy:\\n\\n1. Pad Thai: A classic stir-fried noodle dish with a sweet and tangy sauce, typically made with shrimp, tofu, or chicken.\\n\\n2. Green Curry: A spicy and fragrant curry made with green curry paste, coconut milk, vegetables, and your choice of protein.\\n\\n3. Tom Yum Soup: A hot and sour soup flavored with lemongrass, kaffir lime leaves, and chili peppers, usually made with shrimp or chicken.\\n\\n4. Mango Sticky Rice: A delicious dessert made with sweet sticky rice, fresh mango slices, and coconut milk.\\n\\nThese are just a few examples of popular Thai dishes, but there are many more to explore! Let me know if you'd like more specific recipes or information.\""
      ]
     },
     "execution_count": 5,
     "metadata": {},
     "output_type": "execute_result"
    }
   ],
   "source": [
    "agent_chain.run(input=\"What are some good thai food recipes?\")"
   ]
  },
  {
   "cell_type": "code",
   "execution_count": 6,
   "id": "13d8424a-e9c7-412e-b685-6dce2923f8e8",
   "metadata": {},
   "outputs": [
    {
     "name": "stdout",
     "output_type": "stream",
     "text": [
      "\n",
      "\n",
      "\u001b[1m> Entering new AgentExecutor chain...\u001b[0m\n",
      "\u001b[32;1m\u001b[1;3mThought: Do I need to use a tool? No\n",
      "AI: Among the dishes I mentioned, Green Curry is typically the spiciest due to the green curry paste used in the recipe. However, the level of spiciness can vary depending on how much curry paste is used and personal preference. If you enjoy spicy food, you might want to give Green Curry a try!\u001b[0m\n",
      "\n",
      "\u001b[1m> Finished chain.\u001b[0m\n"
     ]
    },
    {
     "data": {
      "text/plain": [
       "'Among the dishes I mentioned, Green Curry is typically the spiciest due to the green curry paste used in the recipe. However, the level of spiciness can vary depending on how much curry paste is used and personal preference. If you enjoy spicy food, you might want to give Green Curry a try!'"
      ]
     },
     "execution_count": 6,
     "metadata": {},
     "output_type": "execute_result"
    }
   ],
   "source": [
    "agent_chain.run(\"Which one of those dishes is the spiciest?\")"
   ]
  },
  {
   "cell_type": "code",
   "execution_count": 7,
   "id": "7851e3aa-6844-414d-b952-d44b18652296",
   "metadata": {},
   "outputs": [
    {
     "name": "stdout",
     "output_type": "stream",
     "text": [
      "\n",
      "\n",
      "\u001b[1m> Entering new AgentExecutor chain...\u001b[0m\n",
      "\u001b[32;1m\u001b[1;3mThought: Do I need to use a tool? No\n",
      "AI: To make Green Curry, here is a grocery shopping list you might need:\n",
      "\n",
      "1. Green curry paste\n",
      "2. Coconut milk\n",
      "3. Vegetables (such as bell peppers, eggplant, and bamboo shoots)\n",
      "4. Protein (such as chicken, shrimp, or tofu)\n",
      "5. Fish sauce\n",
      "6. Sugar\n",
      "7. Thai basil leaves\n",
      "8. Kaffir lime leaves\n",
      "9. Jasmine rice\n",
      "\n",
      "These are the basic ingredients you'll need to make a delicious Green Curry at home. Enjoy your cooking! Let me know if you need any more help.\u001b[0m\n",
      "\n",
      "\u001b[1m> Finished chain.\u001b[0m\n"
     ]
    },
    {
     "data": {
      "text/plain": [
       "\"To make Green Curry, here is a grocery shopping list you might need:\\n\\n1. Green curry paste\\n2. Coconut milk\\n3. Vegetables (such as bell peppers, eggplant, and bamboo shoots)\\n4. Protein (such as chicken, shrimp, or tofu)\\n5. Fish sauce\\n6. Sugar\\n7. Thai basil leaves\\n8. Kaffir lime leaves\\n9. Jasmine rice\\n\\nThese are the basic ingredients you'll need to make a delicious Green Curry at home. Enjoy your cooking! Let me know if you need any more help.\""
      ]
     },
     "execution_count": 7,
     "metadata": {},
     "output_type": "execute_result"
    }
   ],
   "source": [
    "agent_chain.run(\"Give me a grocery shopping list to make that dish\")"
   ]
  }
 ],
 "metadata": {
  "kernelspec": {
   "display_name": "Python 3 (ipykernel)",
   "language": "python",
   "name": "python3"
  },
  "language_info": {
   "codemirror_mode": {
    "name": "ipython",
    "version": 3
   },
   "file_extension": ".py",
   "mimetype": "text/x-python",
   "name": "python",
   "nbconvert_exporter": "python",
   "pygments_lexer": "ipython3",
   "version": "3.10.9"
  }
 },
 "nbformat": 4,
 "nbformat_minor": 5
}
