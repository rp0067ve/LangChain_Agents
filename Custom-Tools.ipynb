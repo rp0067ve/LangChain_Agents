{
 "cells": [
  {
   "cell_type": "markdown",
   "id": "bcded1a6-2430-4707-a78c-c82f4c5ee6fc",
   "metadata": {},
   "source": [
    "<a href = \"https://www.pieriantraining.com\"><img src=\"../PT Centered Purple.png\"> </a>\n",
    "\n",
    "<em style=\"text-align:center\">Copyrighted by Pierian Training</em>"
   ]
  },
  {
   "cell_type": "markdown",
   "id": "728f1747-b8fc-4d31-96c2-047fc83c079d",
   "metadata": {},
   "source": [
    "# Custom Tools\n",
    "\n",
    "You can see a full list of integrations here: https://python.langchain.com/docs/modules/agents/tools/"
   ]
  },
  {
   "cell_type": "code",
   "execution_count": 26,
   "id": "244f42d8-2349-446e-a1c2-ae4b8d3ee38f",
   "metadata": {},
   "outputs": [],
   "source": [
    "from langchain.agents import load_tools\n",
    "from langchain.agents import initialize_agent\n",
    "from langchain.agents import AgentType\n",
    "from langchain.llms import OpenAI"
   ]
  },
  {
   "cell_type": "markdown",
   "id": "3e26de5b-82e2-47c2-b1d4-5174f142e3bd",
   "metadata": {},
   "source": [
    "### Wrap your own function with the tool decorator"
   ]
  },
  {
   "cell_type": "code",
   "execution_count": 27,
   "id": "abb11b29-8b95-424f-9470-20adb810dd8f",
   "metadata": {},
   "outputs": [],
   "source": [
    "from langchain.agents import tool"
   ]
  },
  {
   "cell_type": "code",
   "execution_count": 28,
   "id": "1a798765-e8ca-4741-a916-b52ca38d95a7",
   "metadata": {},
   "outputs": [],
   "source": [
    "@tool\n",
    "def coolest_guy(text: str) -> str:\n",
    "    '''Returns the name of the coolest guy in the universe'''\n",
    "    return \"Koichiro Suzuki\""
   ]
  },
  {
   "cell_type": "code",
   "execution_count": 29,
   "id": "bc59b209",
   "metadata": {},
   "outputs": [],
   "source": [
    "import os\n",
    "f = open('/Users/koichirosuzuki/Desktop/desktop_openai.txt')\n",
    "os.environ['OPENAI_API_KEY'] = '?'\n",
    "api_key = f.read()"
   ]
  },
  {
   "cell_type": "code",
   "execution_count": 30,
   "id": "de49a069-fcf1-465b-8e20-9410680645e1",
   "metadata": {},
   "outputs": [],
   "source": [
    "llm = OpenAI(temperature=0)"
   ]
  },
  {
   "cell_type": "code",
   "execution_count": 31,
   "id": "83183c36",
   "metadata": {},
   "outputs": [],
   "source": [
    "#pip install wikipedia"
   ]
  },
  {
   "cell_type": "code",
   "execution_count": 32,
   "id": "85189426-f4bb-4018-adcc-14fbdb444d36",
   "metadata": {},
   "outputs": [],
   "source": [
    "tools = load_tools([\"wikipedia\",\"llm-math\"], llm=llm) \n",
    "tools = tools +[coolest_guy]"
   ]
  },
  {
   "cell_type": "code",
   "execution_count": 33,
   "id": "ffdfe861-3352-4e1c-8cbd-2c25e4d2f94d",
   "metadata": {},
   "outputs": [
    {
     "data": {
      "text/plain": [
       "['CHAT_CONVERSATIONAL_REACT_DESCRIPTION',\n",
       " 'CHAT_ZERO_SHOT_REACT_DESCRIPTION',\n",
       " 'CONVERSATIONAL_REACT_DESCRIPTION',\n",
       " 'OPENAI_FUNCTIONS',\n",
       " 'OPENAI_MULTI_FUNCTIONS',\n",
       " 'REACT_DOCSTORE',\n",
       " 'SELF_ASK_WITH_SEARCH',\n",
       " 'STRUCTURED_CHAT_ZERO_SHOT_REACT_DESCRIPTION',\n",
       " 'ZERO_SHOT_REACT_DESCRIPTION',\n",
       " '__class__',\n",
       " '__doc__',\n",
       " '__members__',\n",
       " '__module__']"
      ]
     },
     "execution_count": 33,
     "metadata": {},
     "output_type": "execute_result"
    }
   ],
   "source": [
    "dir(AgentType)"
   ]
  },
  {
   "cell_type": "code",
   "execution_count": 34,
   "id": "488d1642-e736-4fa5-9b08-3331c462b8b1",
   "metadata": {},
   "outputs": [],
   "source": [
    "agent = initialize_agent(tools, \n",
    "                         llm, \n",
    "                         agent=AgentType.ZERO_SHOT_REACT_DESCRIPTION, \n",
    "                         verbose=True)"
   ]
  },
  {
   "cell_type": "code",
   "execution_count": 35,
   "id": "5eced15f-3852-4be0-909f-a7d6e8bc9c4b",
   "metadata": {},
   "outputs": [
    {
     "name": "stdout",
     "output_type": "stream",
     "text": [
      "\n",
      "\n",
      "\u001b[1m> Entering new AgentExecutor chain...\u001b[0m\n",
      "\u001b[32;1m\u001b[1;3m I should use the coolest_guy function to find the answer.\n",
      "Action: coolest_guy\n",
      "Action Input: \"coolest guy\"\u001b[0m\n",
      "Observation: \u001b[38;5;200m\u001b[1;3mKoichiro Suzuki\u001b[0m\n",
      "Thought:\u001b[32;1m\u001b[1;3m I should double check this information on Wikipedia.\n",
      "Action: wikipedia\n",
      "Action Input: \"Koichiro Suzuki\"\u001b[0m\n",
      "Observation: \u001b[36;1m\u001b[1;3mPage: Suzuki Baleno (2015)\n",
      "Summary: The Suzuki Baleno (Japanese: スズキ・バレーノ, Hepburn: Suzuki Barēno) is a subcompact car produced by the Japanese manufacturer Suzuki in India since September 2015 with a hatchback body style.Prior to this, the \"Baleno\" nameplate had been applied to the Cultus Crescent in numerous markets and also for sedan version of Aerio and SX4 in Indonesia. Unlike the previous generations of Baleno when it was offered as a sedan, wagon, or a 3-door hatchback, the model sold since 2015 is exclusively offered as a 5-door hatchback.\n",
      "Since June 2019, it is also marketed at Toyota dealerships in India as the Toyota Glanza, and since September 2020 in several African countries as the Toyota Starlet.The word \"baleno\" means \"lightning\" in Italian.\n",
      "\n",
      "\n",
      "\n",
      "Page: Suzuki Ertiga\n",
      "Summary: The Suzuki Ertiga is a series of multi-purpose vehicles (MPV) manufactured by the Japanese carmaker Suzuki since the year 2012. The first-generation model is heavily based on the Swift while the second-generation model introduced in 2018 is made larger and based on the HEARTECT platform. A crossover-styled version was introduced in 2019 as a separate model called the Suzuki XL6 in India and Suzuki XL7 for worldwide markets. The largest markets for the Ertiga are India and Indonesia, where the model is mainly manufactured. The vehicle has also been exported to other South Asian and Southeast Asian markets, along with several markets in Africa, Middle East, Pacific Islands, Caribbean and Latin America.\n",
      "The Ertiga has been rebadged by various carmakers throughout its history. The first-generation model was sold in Indonesia through Mazda dealership network by an OEM agreement as the Mazda VX-1 from 2013 until 2017, and was assembled and sold in Malaysia by Proton as the Proton Ertiga from 2016 until 2019. The second-generation model is also sold by Toyota as the Toyota Rumion since 2021.\n",
      "The name \"Ertiga\" is coined from \"R-tiga\", a pronunciation of \"R3\" in Indonesian where \"tiga\" means \"three\" while \"R\" stands for \"row\", referencing its three-row seating capacity.\n",
      "\n",
      "Page: Japan men's national volleyball team\n",
      "Summary: The Japan men's national volleyball team (Japanese: 男子バレーボール日本代表) represents Japan in international volleyball competitions and friendly matches, governed by Japan Volleyball Association. \n",
      "Their nickname is \"RYUJIN NIPPON (龍神 NIPPON)\", meaning \"Japanese Dragon God\" or \"Dragon God of Japan\" in Japanese.Japan won a bronze medal at the Tokyo 1964 Olympic Games, followed by silver at Mexico 1968 and a gold at Munich 1972. The years after this have been less successful. Japan missed three successive Olympic Games before returning at Beijing 2008, where they failed to win a match. Japan then failed to qualify for the London 2012 Olympic Games and also missed Rio 2016 after finishing seventh at the World Olympic Qualification Tournament in Tokyo.\n",
      "They also failed to qualify for the 2014 FIVB World Championship the first edition they had missed in 54 years. They had previously won FIVB World Championship bronze medals in 1970 and 1974. Japan silver medalists at the 1969 and 1977 World Cup. Japan has been less successful in the World League era. The team has won the Asian Championships nine times and the Asian Games eight times.\n",
      "In August 2021, at 2020 Summer Olympic Games in Tokyo, Japan advanced to the Quarterfinals round and eventually finished in seventh place, its best result in 29 years.\u001b[0m\n",
      "Thought:\u001b[32;1m\u001b[1;3m After checking Wikipedia, it seems like the coolest guy in the universe is actually a car model. I should use the coolest_guy function again with a different input.\n",
      "Action: coolest_guy\n",
      "Action Input: \"coolest guy\"\u001b[0m\n",
      "Observation: \u001b[38;5;200m\u001b[1;3mKoichiro Suzuki\u001b[0m\n",
      "Thought:\u001b[32;1m\u001b[1;3m This is the same result as before. I should try using the coolest_guy function with a different input.\n",
      "Action: coolest_guy\n",
      "Action Input: \"coolest guy in the world\"\u001b[0m\n",
      "Observation: \u001b[38;5;200m\u001b[1;3mKoichiro Suzuki\u001b[0m\n",
      "Thought:\u001b[32;1m\u001b[1;3m It seems like the coolest guy in the universe and the coolest guy in the world are the same person according to this function. I should try using the coolest_guy function with a different input.\n",
      "Action: coolest_guy\n",
      "Action Input: \"coolest guy in the galaxy\"\u001b[0m\n",
      "Observation: \u001b[38;5;200m\u001b[1;3mKoichiro Suzuki\u001b[0m\n",
      "Thought:\u001b[32;1m\u001b[1;3m It looks like the coolest guy in the universe, world, and galaxy are all the same person according to this function. I should try using the coolest_guy function with a different input.\n",
      "Action: coolest_guy\n",
      "Action Input: \"coolest guy in the solar system\"\u001b[0m\n",
      "Observation: \u001b[38;5;200m\u001b[1;3mKoichiro Suzuki\u001b[0m\n",
      "Thought:\u001b[32;1m\u001b[1;3m It seems like the coolest guy in the universe, world, galaxy, and solar system are all the same person according to this function. I should try using the coolest_guy function with a different input.\n",
      "Action: coolest_guy\n",
      "Action Input: \"coolest guy in the Milky Way\"\u001b[0m\n",
      "Observation: \u001b[38;5;200m\u001b[1;3mKoichiro Suzuki\u001b[0m\n",
      "Thought:\u001b[32;1m\u001b[1;3m It looks like the coolest guy in the universe, world, galaxy, solar system, and Milky Way are all the same person according to this function. I should try using the coolest_guy function with a different input.\n",
      "Action: coolest_guy\n",
      "Action Input: \"coolest guy in the observable universe\"\u001b[0m\n",
      "Observation: \u001b[38;5;200m\u001b[1;3mKoichiro Suzuki\u001b[0m\n",
      "Thought:\u001b[32;1m\u001b[1;3m It seems like the coolest guy in the universe, world, galaxy, solar system, Milky Way, and observable universe are all the same person according to this function. I now know the final answer.\n",
      "Final Answer: Koichiro Suzuki is the coolest guy in the observable universe.\u001b[0m\n",
      "\n",
      "\u001b[1m> Finished chain.\u001b[0m\n"
     ]
    },
    {
     "data": {
      "text/plain": [
       "'Koichiro Suzuki is the coolest guy in the observable universe.'"
      ]
     },
     "execution_count": 35,
     "metadata": {},
     "output_type": "execute_result"
    }
   ],
   "source": [
    "agent.run(\"Whos is the coolest guy in the universe?\")"
   ]
  },
  {
   "cell_type": "code",
   "execution_count": 36,
   "id": "31612caf-de9f-4c61-be1e-bbe521660992",
   "metadata": {},
   "outputs": [],
   "source": [
    "@tool\n",
    "def some_api_call(text: str) -> str:\n",
    "    '''Can now connect your Agents to any tool via an API call, get creative here!'''\n",
    "    return api_result"
   ]
  },
  {
   "cell_type": "code",
   "execution_count": 37,
   "id": "93a09235-b6df-47b9-bce6-f9e400e95ce5",
   "metadata": {},
   "outputs": [],
   "source": [
    "from datetime import datetime\n",
    "# DOC STRINGS SHOULD BE VERY DESCRIPTIVE\n",
    "# IT IS WHAT THE LLM READS TO DECIDE TO USE THE TOOL!\n",
    "@tool\n",
    "def get_time(text: str) -> str:\n",
    "    '''Returns the current time. Use this for any questions\n",
    "    regarding the current time. Input is an empty string and\n",
    "    the current time is returned in a string format. Only use this function\n",
    "    for the current time. Other time related questions should use another tool'''\n",
    "    return str(datetime.now())"
   ]
  },
  {
   "cell_type": "code",
   "execution_count": 38,
   "id": "f9f26db0-aaca-4f2d-a60b-9b93cd1a366e",
   "metadata": {},
   "outputs": [],
   "source": [
    "agent = initialize_agent(tools+[get_time], \n",
    "                         llm, \n",
    "                         agent=AgentType.ZERO_SHOT_REACT_DESCRIPTION, \n",
    "                         verbose=True)"
   ]
  },
  {
   "cell_type": "code",
   "execution_count": 39,
   "id": "c83aeb64-6514-43c7-ad4a-74ce0f403392",
   "metadata": {},
   "outputs": [
    {
     "name": "stdout",
     "output_type": "stream",
     "text": [
      "\n",
      "\n",
      "\u001b[1m> Entering new AgentExecutor chain...\u001b[0m\n",
      "\u001b[32;1m\u001b[1;3m I should use another tool for time related questions\n",
      "Action: wikipedia\n",
      "Action Input: Pearl Harbor\u001b[0m\n",
      "Observation: \u001b[36;1m\u001b[1;3mPage: Pearl Harbor\n",
      "Summary: Pearl Harbor is an American lagoon harbor on the island of Oahu, Hawaii, west of Honolulu. It was often visited by the Naval fleet of the United States, before it was acquired from the Hawaiian Kingdom by the U.S. with the signing of the Reciprocity Treaty of 1875. Much of the harbor and surrounding lands are now a United States Navy deep-water naval base. It is also the headquarters of the United States Pacific Fleet. The U.S. government first obtained exclusive use of the inlet and the right to maintain a repair and coaling station for ships here in 1887. The surprise attack by the Imperial Japanese Navy on December 7, 1941, led the United States to declare war on the Empire of Japan, making the attack on Pearl Harbor the immediate cause of the United States' entry into World War II.\n",
      "\n",
      "\n",
      "\n",
      "Page: Attack on Pearl Harbor\n",
      "Summary: The attack on Pearl Harbor was a surprise military strike by the Imperial Japanese Navy Air Service upon the United States against the American naval base at Pearl Harbor in Honolulu, Hawaii, just before 8:00 a.m. (local time) on Sunday, December 7, 1941. The United States was a neutral country at the time; the attack led the U.S. to formally enter World War II on the side of the Allies the following day. The Japanese military leadership referred to the attack as the Hawaii Operation and Operation AI, and as Operation Z during its planning.The attack was preceded by months of negotiations between the United States and Japan over the future of the Pacific. Japanese demands included that the United States end its sanctions against Japan, cease aiding China in the Second Sino-Japanese war, and allow Japan to access the resources of the Dutch East Indies. Anticipating a negative response, Japan sent out its naval attack groups in November 1941 just prior to receiving the Hull note—the United States demand that Japan withdraw from China and French Indochina. Japan intended the attack as a preventive action. Its aim was to prevent the United States Pacific Fleet from interfering with its planned military actions in Southeast Asia against overseas territories of the United Kingdom, the Netherlands, and those of the United States. Over the course of seven hours, there were coordinated Japanese attacks on the U.S.-held Philippines, Guam, and Wake Island and on the British Empire in Malaya, Singapore, and Hong Kong.The attack commenced at 7:48 a.m. Hawaiian time (6:18 p.m. GMT). The base was attacked by 353 Imperial Japanese aircraft (including fighters, level and dive bombers, and torpedo bombers) in two waves, launched from six aircraft carriers. Of the eight United States Navy battleships present, all were damaged and four were sunk. All but USS Arizona were later raised, and six were returned to service and went on to fight in the war. The Japanese also sank or damaged three cruisers, three destroyers, an anti-aircraft training ship, and one minelayer. More than 180 US aircraft were destroyed. A total of 2,403 Americans were killed and 1,178 others were wounded, making it the deadliest event ever recorded in Hawaii. Important base installations, such as the power station, dry dock, shipyard, maintenance, and fuel and torpedo storage facilities, as well as the submarine piers and headquarters building (also home of the intelligence section) were not attacked. Japanese losses were light: 29 aircraft and five midget submarines lost, and 129 servicemen killed. Kazuo Sakamaki, the commanding officer of one of the submarines, was captured.\n",
      "Japan declared war on the United States and the British Empire later that day (December 8 in Tokyo), but the declarations were not delivered until the following day. The British government declared war on Japan immediately after learning that their territory had also been attacked, while the following day (December 8), the United States Congress declared war on Japan. On December 11, though they had no formal obligation to do so under the Tripartite Pact\u001b[0m\n",
      "Thought:\u001b[32;1m\u001b[1;3m I now know the final answer\n",
      "Final Answer: The attack on Pearl Harbor happened at 7:48 a.m. Hawaiian time on December 7, 1941.\u001b[0m\n",
      "\n",
      "\u001b[1m> Finished chain.\u001b[0m\n"
     ]
    },
    {
     "data": {
      "text/plain": [
       "{'input': 'What time did Pearl Harbor happen at?',\n",
       " 'output': 'The attack on Pearl Harbor happened at 7:48 a.m. Hawaiian time on December 7, 1941.'}"
      ]
     },
     "execution_count": 39,
     "metadata": {},
     "output_type": "execute_result"
    }
   ],
   "source": [
    "agent(\"What time did Pearl Harbor happen at?\")"
   ]
  },
  {
   "cell_type": "code",
   "execution_count": 17,
   "id": "334b708a-cf5f-4ec9-9659-35b2bd55b622",
   "metadata": {},
   "outputs": [
    {
     "name": "stdout",
     "output_type": "stream",
     "text": [
      "\n",
      "\n",
      "\u001b[1m> Entering new AgentExecutor chain...\u001b[0m\n",
      "\u001b[32;1m\u001b[1;3m I should use the get_time function to get the current time.\n",
      "Action: get_time\n",
      "Action Input: \"\"\u001b[0m\n",
      "Observation: \u001b[36;1m\u001b[1;3m2024-03-26 23:11:45.377816\u001b[0m\n",
      "Thought:\u001b[32;1m\u001b[1;3m I now know the final answer\n",
      "Final Answer: 2024-03-26 23:11:45.377816\u001b[0m\n",
      "\n",
      "\u001b[1m> Finished chain.\u001b[0m\n"
     ]
    },
    {
     "data": {
      "text/plain": [
       "{'input': 'What time is it?', 'output': '2024-03-26 23:11:45.377816'}"
      ]
     },
     "execution_count": 17,
     "metadata": {},
     "output_type": "execute_result"
    }
   ],
   "source": [
    "agent(\"What time is it?\")"
   ]
  },
  {
   "cell_type": "code",
   "execution_count": null,
   "id": "3247717f-a68b-4d4b-9da9-abdc9fa37be1",
   "metadata": {},
   "outputs": [],
   "source": []
  }
 ],
 "metadata": {
  "kernelspec": {
   "display_name": "Python 3 (ipykernel)",
   "language": "python",
   "name": "python3"
  },
  "language_info": {
   "codemirror_mode": {
    "name": "ipython",
    "version": 3
   },
   "file_extension": ".py",
   "mimetype": "text/x-python",
   "name": "python",
   "nbconvert_exporter": "python",
   "pygments_lexer": "ipython3",
   "version": "3.10.9"
  }
 },
 "nbformat": 4,
 "nbformat_minor": 5
}
